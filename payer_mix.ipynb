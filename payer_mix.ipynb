{
 "cells": [
  {
   "cell_type": "raw",
   "metadata": {},
   "source": [
    "title: Payer Mix Matters\n",
    "description: Data app with many calculations\n",
    "params:\n",
    " self_pay:\n",
    "        input: slider\n",
    "        label: Self-Pay\n",
    "        value: 5\n",
    "        min: 0\n",
    "        max: 10\n",
    "  Medicaid:\n",
    "        input: slider\n",
    "        label: Medicaid\n",
    "        value: 5\n",
    "        min: 0\n",
    "        max: 10\n",
    "  Medicare:\n",
    "        input: slider\n",
    "        label: Medicare\n",
    "        value: 5\n",
    "        min: 0\n",
    "        max: 10\n",
    "   private:\n",
    "        input: slider\n",
    "        label: private\n",
    "        value: 5\n",
    "        min: 0\n",
    "        max: 10\n",
    "---\n"
   ]
  },
  {
   "cell_type": "code",
   "execution_count": null,
   "metadata": {},
   "outputs": [],
   "source": [
    "\n",
    "from random import choices\n",
    "population = [.5,.9,1.2,2]\n",
    "weights = [self_pay,Medicaid,Medicare,Private]\n",
    "\n",
    "choices(population, weights)"
   ]
  }
 ],
 "metadata": {
  "kernelspec": {
   "display_name": "Python 3",
   "language": "python",
   "name": "python3"
  },
  "language_info": {
   "codemirror_mode": {
    "name": "ipython",
    "version": 3
   },
   "file_extension": ".py",
   "mimetype": "text/x-python",
   "name": "python",
   "nbconvert_exporter": "python",
   "pygments_lexer": "ipython3",
   "version": "3.7.6"
  }
 },
 "nbformat": 4,
 "nbformat_minor": 4
}
